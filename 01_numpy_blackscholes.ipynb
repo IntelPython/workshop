{
 "cells": [
  {
   "cell_type": "markdown",
   "metadata": {},
   "source": [
    "# Black Scholes demo with NumPy & VTune"
   ]
  },
  {
   "cell_type": "code",
   "execution_count": null,
   "metadata": {},
   "outputs": [],
   "source": [
    "# Boilerplate for the example\n",
    "import numpy as np\n",
    "\n",
    "try:\n",
    "    import numpy.random_intel as rnd\n",
    "except:\n",
    "    import numpy.random as rnd\n",
    "\n",
    "# make xrange available in python 3\n",
    "try:\n",
    "    xrange\n",
    "except NameError:\n",
    "    xrange = range\n",
    "    \n",
    "#Black Scholes dummy parameter\n",
    "\n",
    "SEED = 7777777\n",
    "S0L = 10.0\n",
    "S0H = 50.0\n",
    "XL = 10.0\n",
    "XH = 50.0\n",
    "TL = 1.0\n",
    "TH = 2.0\n",
    "RISK_FREE = 0.1\n",
    "VOLATILITY = 0.2\n",
    "TEST_ARRAY_LENGTH = 1024\n",
    "\n",
    "###############################################\n",
    "\n",
    "def gen_data(nopt):\n",
    "    return (\n",
    "        rnd.uniform(S0L, S0H, nopt),\n",
    "        rnd.uniform(XL, XH, nopt),\n",
    "        rnd.uniform(TL, TH, nopt),\n",
    "        )"
   ]
  },
  {
   "cell_type": "code",
   "execution_count": null,
   "metadata": {},
   "outputs": [],
   "source": [
    "nopt=100000\n",
    "price, strike, t = gen_data(nopt)"
   ]
  },
  {
   "cell_type": "markdown",
   "metadata": {},
   "source": [
    "## The Naive Black Scholes algorithm (looped)\n",
    "\n",
    "Using Python lists and explicit loop."
   ]
  },
  {
   "cell_type": "code",
   "execution_count": null,
   "metadata": {},
   "outputs": [],
   "source": [
    "from math import log, sqrt, exp, erf\n",
    "invsqrt = lambda x: 1.0/sqrt(x)\n",
    "\n",
    "def black_scholes(nopt, price, strike, t, rate, vol):\n",
    "    call = [0.0] * nopt\n",
    "    put = [-1.0] * nopt\n",
    "    mr = -rate\n",
    "    sig_sig_two = vol * vol * 2\n",
    "    \n",
    "    for i in range(nopt):\n",
    "        P = float( price[i] )\n",
    "        S = strike[i]\n",
    "        T = t[i]\n",
    "        \n",
    "        a = log(P / S)\n",
    "        b = T * mr\n",
    "        \n",
    "        z = T * sig_sig_two\n",
    "        c = 0.25 * z\n",
    "        y = invsqrt(z)\n",
    "        \n",
    "        w1 = (a - b + c) * y\n",
    "        w2 = (a - b - c) * y\n",
    "        \n",
    "        d1 = 0.5 + 0.5 * erf(w1)\n",
    "        d2 = 0.5 + 0.5 * erf(w2)\n",
    "        \n",
    "        Se = exp(b) * S\n",
    "        \n",
    "        call[i] = P * d1 - Se * d2\n",
    "        put[i] = call[i] - P + Se\n",
    "        \n",
    "    return (call, put)"
   ]
  },
  {
   "cell_type": "code",
   "execution_count": null,
   "metadata": {},
   "outputs": [],
   "source": [
    "%timeit black_scholes(nopt, price, strike, t, RISK_FREE, VOLATILITY)"
   ]
  },
  {
   "cell_type": "markdown",
   "metadata": {},
   "source": [
    "## The NumPy modified naive Black Scholes algorithm (looped)\n",
    "\n",
    "Replacing Python lists with nd-arrays and using NumPy functions."
   ]
  },
  {
   "cell_type": "code",
   "execution_count": null,
   "metadata": {},
   "outputs": [],
   "source": [
    "#from numpy import log, sqrt, exp, erf, invsqrt\n",
    "\n",
    "def black_scholes(nopt, price, strike, t, rate, vol):\n",
    "    call = np.zeros(nopt, dtype=np.float64)\n",
    "    put  = -np.ones(nopt, dtype=np.float64)\n",
    "    mr = -rate\n",
    "    sig_sig_two = vol * vol * 2\n",
    "    \n",
    "    for i in range(nopt):\n",
    "        P = price[i]\n",
    "        S = strike[i]\n",
    "        T = t[i]\n",
    "        \n",
    "        a = np.log(P / S)\n",
    "        b = T * mr\n",
    "        \n",
    "        z = T * sig_sig_two\n",
    "        c = 0.25 * z\n",
    "        y = np.invsqrt(z)\n",
    "        \n",
    "        w1 = (a - b + c) * y\n",
    "        w2 = (a - b - c) * y\n",
    "        \n",
    "        d1 = 0.5 + 0.5 * np.erf(w1)\n",
    "        d2 = 0.5 + 0.5 * np.erf(w2)\n",
    "        \n",
    "        Se = np.exp(b) * S\n",
    "        \n",
    "        call[i] = P * d1 - Se * d2\n",
    "        put[i] = call[i] - P + Se\n",
    "        \n",
    "    return (call, put)"
   ]
  },
  {
   "cell_type": "code",
   "execution_count": null,
   "metadata": {},
   "outputs": [],
   "source": [
    "%timeit black_scholes(nopt, price, strike, t, RISK_FREE, VOLATILITY)"
   ]
  },
  {
   "cell_type": "markdown",
   "metadata": {},
   "source": [
    "## Performance as expected?\n",
    "\n",
    "We should to work on NumPy Arrays to achieve vectorization.\n",
    "\n",
    "Remove the loop and let it work on whole arrays!"
   ]
  },
  {
   "cell_type": "code",
   "execution_count": null,
   "metadata": {},
   "outputs": [],
   "source": [
    "def black_scholes(nopt, price, strike, t, rate, vol):\n",
    "    # No need to create/init put/call arrays\n",
    "    mr = -rate\n",
    "    sig_sig_two = vol * vol * 2\n",
    "\n",
    "#TODO add non-looped code\n",
    "    \n",
    "    return (call, put)"
   ]
  },
  {
   "cell_type": "code",
   "execution_count": null,
   "metadata": {},
   "outputs": [],
   "source": [
    "%timeit black_scholes(nopt, price, strike, t, RISK_FREE, VOLATILITY)"
   ]
  },
  {
   "cell_type": "markdown",
   "metadata": {},
   "source": [
    "## Now let's do a detailed performance analysis\n",
    "\n",
    "Use provided alias from amplxe.ipy to run VTune/amplifier."
   ]
  },
  {
   "cell_type": "code",
   "execution_count": null,
   "metadata": {},
   "outputs": [],
   "source": [
    "nopt=10000000\n",
    "price, strike, t = gen_data(nopt)\n",
    "\n",
    "call, put = black_scholes(nopt, price, strike, t, RISK_FREE, VOLATILITY)"
   ]
  },
  {
   "cell_type": "code",
   "execution_count": null,
   "metadata": {},
   "outputs": [],
   "source": [
    "%pycat amplxe.ipy\n",
    "%run amplxe.ipy"
   ]
  },
  {
   "cell_type": "code",
   "execution_count": null,
   "metadata": {},
   "outputs": [],
   "source": [
    "# save python code to file\n",
    "#TODO select the right cells!\n",
    "%save -f runme.py 1 7 9\n",
    "# collect data\n",
    "%amplxe runme.py"
   ]
  },
  {
   "cell_type": "code",
   "execution_count": null,
   "metadata": {},
   "outputs": [],
   "source": []
  }
 ],
 "metadata": {
  "kernelspec": {
   "display_name": "Python 3",
   "language": "python",
   "name": "python3"
  },
  "language_info": {
   "codemirror_mode": {
    "name": "ipython",
    "version": 3
   },
   "file_extension": ".py",
   "mimetype": "text/x-python",
   "name": "python",
   "nbconvert_exporter": "python",
   "pygments_lexer": "ipython3",
   "version": "3.6.3"
  }
 },
 "nbformat": 4,
 "nbformat_minor": 2
}
