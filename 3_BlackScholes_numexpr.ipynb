{
 "cells": [
  {
   "cell_type": "markdown",
   "metadata": {},
   "source": [
    "# Black Scholes Exercise 3: Numexpr implementation\n",
    "\n",
    "- Use numexpr\n",
    "- Use cProfile and Line Profiler to look for bottlenecks and hotspots in the code"
   ]
  },
  {
   "cell_type": "code",
   "execution_count": null,
   "metadata": {
    "collapsed": true
   },
   "outputs": [],
   "source": [
    "# Boilerplate for the example\n",
    "\n",
    "import cProfile\n",
    "import pstats\n",
    "import numpy as np\n",
    "\n",
    "try:\n",
    "    import numpy.random_intel as rnd\n",
    "except:\n",
    "    import numpy.random as rnd\n",
    "\n",
    "# make xrange available in python 3\n",
    "try:\n",
    "    xrange\n",
    "except NameError:\n",
    "    xrange = range\n",
    "\n",
    "SEED = 7777777\n",
    "S0L = 10.0\n",
    "S0H = 50.0\n",
    "XL = 10.0\n",
    "XH = 50.0\n",
    "TL = 1.0\n",
    "TH = 2.0\n",
    "RISK_FREE = 0.1\n",
    "VOLATILITY = 0.2\n",
    "TEST_ARRAY_LENGTH = 1024\n",
    "\n",
    "###############################################\n",
    "\n",
    "def gen_data(nopt):\n",
    "    return (\n",
    "        rnd.uniform(S0L, S0H, nopt),\n",
    "        rnd.uniform(XL, XH, nopt),\n",
    "        rnd.uniform(TL, TH, nopt),\n",
    "        )\n",
    "\n",
    "nopt=100000\n",
    "price, strike, t = gen_data(nopt)\n",
    "call = np.zeros(nopt, dtype=np.float64)\n",
    "put  = -np.ones(nopt, dtype=np.float64)"
   ]
  },
  {
   "cell_type": "markdown",
   "metadata": {},
   "source": [
    "# The numexpr Black Scholes algorithm\n",
    "\n",
    "How does this differ from the NumPy and Naive variants?"
   ]
  },
  {
   "cell_type": "code",
   "execution_count": null,
   "metadata": {},
   "outputs": [],
   "source": [
    "import numexpr as ne\n",
    "\n",
    "def black_scholes (nopt, price, strike, t, rate, vol ):\n",
    "    mr = -rate\n",
    "    sig_sig_two = vol * vol * 2\n",
    "\n",
    "    P = price\n",
    "    S = strike\n",
    "    T = t\n",
    "\n",
    "    a = ne.evaluate(\"log(P / S) \")\n",
    "    b = ne.evaluate(\"T * mr \")\n",
    "\n",
    "    z = ne.evaluate(\"T * sig_sig_two \")\n",
    "    c = ne.evaluate(\"0.25 * z \")\n",
    "    y = ne.evaluate(\"1/sqrt(z) \")\n",
    "\n",
    "    w1 = ne.evaluate(\"(a - b + c) * y \")\n",
    "    w2 = ne.evaluate(\"(a - b - c) * y \")\n",
    "\n",
    "    d1 = ne.evaluate(\"0.5 + 0.5 * erf(w1) \")\n",
    "    d2 = ne.evaluate(\"0.5 + 0.5 * erf(w2) \")\n",
    "\n",
    "    Se = ne.evaluate(\"exp(b) * S \")\n",
    "\n",
    "    call = ne.evaluate(\"P * d1 - Se * d2 \")\n",
    "    # TODO convert put = call - P + Se to numexpr\n",
    "\n",
    "    return call, put\n",
    "\n",
    "ne.set_num_threads(ne.detect_number_of_cores())\n",
    "ne.set_vml_accuracy_mode('high')"
   ]
  },
  {
   "cell_type": "markdown",
   "metadata": {},
   "source": [
    "## Run timeit, cProfile, and/or VTune to see what is happening"
   ]
  },
  {
   "cell_type": "code",
   "execution_count": null,
   "metadata": {
    "collapsed": true
   },
   "outputs": [],
   "source": []
  },
  {
   "cell_type": "markdown",
   "metadata": {},
   "source": [
    "## Crunching the commands down\n",
    "\n",
    "What is different in this variant of Black Scholes?"
   ]
  },
  {
   "cell_type": "code",
   "execution_count": null,
   "metadata": {},
   "outputs": [],
   "source": [
    "def black_scholes(price, strike, t, rate, vol ):\n",
    "    mr = -rate\n",
    "    sig_sig_two = vol * vol * 2\n",
    "    \n",
    "    P = price\n",
    "    S = strike\n",
    "    T = t\n",
    "\n",
    "    call = ne.evaluate(\"P * (0.5 + 0.5 * erf((log(P / S) - T * mr + 0.25 * T * sig_sig_two) * 1/sqrt(T * sig_sig_two))) - S * exp(T * mr) * (0.5 + 0.5 * erf((log(P / S) - T * mr - 0.25 * T * sig_sig_two) * 1/sqrt(T * sig_sig_two))) \")\n",
    "    put = ne.evaluate(\"call - P + S * exp(T * mr) \")\n",
    "    # TODO compute put using numexpr\n",
    "    #      Note: there is no variable \"Se\"\n",
    "    \n",
    "    return call, put\n",
    "        \n",
    "\n",
    "ne.set_num_threads(ne.detect_number_of_cores())\n",
    "ne.set_vml_accuracy_mode('high')"
   ]
  },
  {
   "cell_type": "markdown",
   "metadata": {},
   "source": [
    "## Run timeit, cProfile, and/or VTune to see what is happening"
   ]
  },
  {
   "cell_type": "code",
   "execution_count": null,
   "metadata": {
    "collapsed": true
   },
   "outputs": [],
   "source": []
  }
 ],
 "metadata": {
  "kernelspec": {
   "display_name": "Python 3",
   "language": "python",
   "name": "python3"
  },
  "language_info": {
   "codemirror_mode": {
    "name": "ipython",
    "version": 3
   },
   "file_extension": ".py",
   "mimetype": "text/x-python",
   "name": "python",
   "nbconvert_exporter": "python",
   "pygments_lexer": "ipython3",
   "version": "3.6.2"
  }
 },
 "nbformat": 4,
 "nbformat_minor": 1
}
