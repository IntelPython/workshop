{
 "cells": [
  {
   "cell_type": "markdown",
   "metadata": {},
   "source": [
    "# Black Scholes Exercise 6: MPI implementation\n",
    "Use MPI to parallelize and distribute the work"
   ]
  },
  {
   "cell_type": "code",
   "execution_count": null,
   "metadata": {
    "collapsed": true
   },
   "outputs": [],
   "source": [
    "# Boilerplate for the example\n",
    "\n",
    "import cProfile\n",
    "import pstats\n",
    "import numpy as np\n",
    "\n",
    "try:\n",
    "    import numpy.random_intel as rnd\n",
    "except:\n",
    "    import numpy.random as rnd\n",
    "\n",
    "# make xrange available in python 3\n",
    "try:\n",
    "    xrange\n",
    "except NameError:\n",
    "    xrange = range\n",
    "\n",
    "SEED = 7777777\n",
    "S0L = 10.0\n",
    "S0H = 50.0\n",
    "XL = 10.0\n",
    "XH = 50.0\n",
    "TL = 1.0\n",
    "TH = 2.0\n",
    "RISK_FREE = 0.1\n",
    "VOLATILITY = 0.2\n",
    "TEST_ARRAY_LENGTH = 1024\n",
    "\n",
    "###############################################\n",
    "\n",
    "def gen_data(nopt):\n",
    "    return (\n",
    "        rnd.uniform(S0L, S0H, nopt),\n",
    "        rnd.uniform(XL, XH, nopt),\n",
    "        rnd.uniform(TL, TH, nopt),\n",
    "        )\n",
    "\n",
    "nopt=100000\n",
    "price, strike, t = gen_data(nopt)\n",
    "call = np.zeros(nopt, dtype=np.float64)\n",
    "put  = -np.ones(nopt, dtype=np.float64)"
   ]
  },
  {
   "cell_type": "code",
   "execution_count": 1,
   "metadata": {
    "collapsed": true
   },
   "outputs": [],
   "source": [
    "# Let's add a Black Scholes kernel (numpy) and an MPI wrapper\n",
    "\n",
    "from numpy import log, invsqrt, exp, erf\n",
    "# Black Scholes kernel\n",
    "def black_scholes(nopt, price, strike, t, rate, vol):\n",
    "    mr = -rate\n",
    "    sig_sig_two = vol * vol * 2\n",
    "\n",
    "    P = price\n",
    "    S = strike\n",
    "    T = t\n",
    "\n",
    "    a = log(P / S)\n",
    "    b = T * mr\n",
    "\n",
    "    z = T * sig_sig_two\n",
    "    c = 0.25 * z\n",
    "    y = invsqrt(z)\n",
    "\n",
    "    w1 = (a - b + c) * y\n",
    "    w2 = (a - b - c) * y\n",
    "\n",
    "    d1 = 0.5 + 0.5 * erf(w1)\n",
    "    d2 = 0.5 + 0.5 * erf(w2)\n",
    "\n",
    "    Se = exp(b) * S\n",
    "\n",
    "    call = P * d1 - Se * d2\n",
    "    put = call - P + Se\n",
    "    \n",
    "    return (call, put)\n",
    "\n",
    "\n",
    "# MPI wrapper\n",
    "from mpi4py import MPI\n",
    "def black_scholes_mpi(nopt, price, strike, t, rate, vol):\n",
    "    comm = MPI.COMM_WORLD\n",
    "    nump = comm.size\n",
    "    noptpp = int(nopt/nump)\n",
    "\n",
    "    myprice = np.empty(noptpp, dtype=np.float64)\n",
    "    mystrike = np.empty(noptpp, dtype=np.float64)\n",
    "    myt = np.empty(noptpp, dtype=np.float64)\n",
    "\n",
    "    # Scatter data into arrays\n",
    "    comm.Scatter(price, myprice, root=0)\n",
    "    # TODO scatter strike and t\n",
    "\n",
    "    mycall, myput = black_scholes(noptpp, myprice, mystrike, myt, rate, vol)\n",
    "\n",
    "    comm.Gather(mycall, call)\n",
    "    #TODO gather put\n",
    "\n",
    "    return call, put"
   ]
  },
  {
   "cell_type": "code",
   "execution_count": null,
   "metadata": {
    "collapsed": true
   },
   "outputs": [],
   "source": [
    "# Running a single python function in MPI is possible with ipython but can be tricky to setup.\n",
    "# Let's run the entire program with MPI.\n",
    "# We need to add our own timing.\n",
    "from time import clock\n",
    "t1 = clock()\n",
    "black_scholes_mpi(nopt, price, strike, t, RISK_FREE, VOLATILITY)\n",
    "t = (clock()-t1)*1000\n",
    "print(\"Time: {:.2f}ms\".format(t))"
   ]
  },
  {
   "cell_type": "markdown",
   "metadata": {},
   "source": [
    "Now we can safe the code to a file and run it with mpirun"
   ]
  },
  {
   "cell_type": "code",
   "execution_count": null,
   "metadata": {
    "collapsed": true
   },
   "outputs": [],
   "source": [
    "%save -f runme.py 1-3\n",
    "!mpirun -n 4 python ./runme.py"
   ]
  },
  {
   "cell_type": "markdown",
   "metadata": {},
   "source": [
    "## 1. Let only rank 0 print the timing\n",
    "## 2. How can we reduce the communication cost?"
   ]
  }
 ],
 "metadata": {
  "kernelspec": {
   "display_name": "Python 3",
   "language": "python",
   "name": "python3"
  },
  "language_info": {
   "codemirror_mode": {
    "name": "ipython",
    "version": 3
   },
   "file_extension": ".py",
   "mimetype": "text/x-python",
   "name": "python",
   "nbconvert_exporter": "python",
   "pygments_lexer": "ipython3",
   "version": "3.6.2"
  }
 },
 "nbformat": 4,
 "nbformat_minor": 2
}
