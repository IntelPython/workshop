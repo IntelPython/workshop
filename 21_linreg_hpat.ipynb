{
 "cells": [
  {
   "cell_type": "markdown",
   "metadata": {},
   "source": [
    "# HPAT\n",
    "High Performance Analytics Toolkit (HPAT) scales analytics/ML codes in Python to bare-metal cluster/cloud performance automatically. It compiles a subset of Python (Pandas/Numpy) to efficient parallel binaries with MPI, requiring only minimal code changes."
   ]
  },
  {
   "cell_type": "markdown",
   "metadata": {},
   "source": [
    "## Linear Regression\n",
    "Linear regression is a linear approach to modelling the relationship between a scalar response (or dependent variable) and one or more explanatory variables (or independent variables).\n",
    "\n",
    "This exercise demostrates how HPAT can easily distribute a hand-written algorithm for linear regression fitting/prediction. HPAT automatically distributes file-IO and computation.\n",
    "\n",
    "https://github.com/IntelLabs/hpat\n",
    "\n",
    "## Create an input file (hdf5)"
   ]
  },
  {
   "cell_type": "code",
   "execution_count": null,
   "metadata": {
    "collapsed": true
   },
   "outputs": [],
   "source": [
    "# boilerplate code\n",
    "import h5py\n",
    "import numpy as np\n",
    "import argparse\n",
    "import time\n",
    "import hpat\n",
    "\n",
    "N = 100000\n",
    "D = 16\n",
    "p = 32\n",
    "file_name = 'lir.hdf5'"
   ]
  },
  {
   "cell_type": "code",
   "execution_count": null,
   "metadata": {
    "collapsed": true
   },
   "outputs": [],
   "source": [
    "def gen_lir(N, D, p, file_name):\n",
    "    # np.random.seed(0)\n",
    "    points = np.random.random((N,D))\n",
    "    responses = np.random.random((N,p))\n",
    "    f = h5py.File(file_name, \"w\")\n",
    "    dset1 = f.create_dataset(\"points\", (N,D), dtype='f8')\n",
    "    dset1[:] = points\n",
    "    dset2 = f.create_dataset(\"responses\", (N,p), dtype='f8')\n",
    "    dset2[:] = responses\n",
    "    f.close()\n",
    "\n",
    "gen_lir(N, D, p, file_name)"
   ]
  },
  {
   "cell_type": "code",
   "execution_count": null,
   "metadata": {},
   "outputs": [],
   "source": [
    "!ls -l *.hdf5"
   ]
  },
  {
   "cell_type": "markdown",
   "metadata": {},
   "source": [
    "## Read data from file into pandas and perform linear regression training/fitting"
   ]
  },
  {
   "cell_type": "code",
   "execution_count": null,
   "metadata": {
    "collapsed": true
   },
   "outputs": [],
   "source": [
    "def linear_regression(iterations):\n",
    "    f = h5py.File(\"lir.hdf5\", \"r\")\n",
    "    X = f['points'][:]\n",
    "    Y = f['responses'][:]\n",
    "    f.close()\n",
    "    N,D = X.shape\n",
    "    p = Y.shape[1]\n",
    "    alphaN = 0.01/N\n",
    "    w = np.zeros((D,p))\n",
    "    t1 = time.time()\n",
    "    for i in range(iterations):\n",
    "        w -= alphaN * np.dot(X.T, np.dot(X,w)-Y)\n",
    "    t2 = time.time()\n",
    "    print(\"Execution time:\", t2-t1)\n",
    "    return w"
   ]
  },
  {
   "cell_type": "code",
   "execution_count": null,
   "metadata": {},
   "outputs": [],
   "source": [
    "linear_regression(100)"
   ]
  },
  {
   "cell_type": "markdown",
   "metadata": {},
   "source": [
    "TODO 1. Enable HPAT by decorating linear_regressino with hpat.jit\n",
    "\n",
    "TODO 2. Run on multiple processes with MPI (after saving right cells to a python file)"
   ]
  },
  {
   "cell_type": "code",
   "execution_count": null,
   "metadata": {},
   "outputs": [],
   "source": [
    "%save -f runme.py 1 6 7"
   ]
  },
  {
   "cell_type": "code",
   "execution_count": null,
   "metadata": {},
   "outputs": [],
   "source": [
    "!mpirun -n 2 python runme.py"
   ]
  },
  {
   "cell_type": "code",
   "execution_count": null,
   "metadata": {
    "collapsed": true
   },
   "outputs": [],
   "source": []
  }
 ],
 "metadata": {
  "kernelspec": {
   "display_name": "Python 3",
   "language": "python",
   "name": "python3"
  },
  "language_info": {
   "codemirror_mode": {
    "name": "ipython",
    "version": 3
   },
   "file_extension": ".py",
   "mimetype": "text/x-python",
   "name": "python",
   "nbconvert_exporter": "python",
   "pygments_lexer": "ipython3",
   "version": "3.6.2"
  }
 },
 "nbformat": 4,
 "nbformat_minor": 2
}
