{
 "cells": [
  {
   "cell_type": "markdown",
   "metadata": {},
   "source": [
    "# Collaborative Filtering\n",
    "\n",
    "Using your experience from analyzing Black Scholes, profile and analyze the composability methods used for the Collaborative Filtering algorithm"
   ]
  },
  {
   "cell_type": "code",
   "execution_count": null,
   "metadata": {
    "collapsed": false
   },
   "outputs": [],
   "source": [
    "#!/usr/bin/env python\n",
    "# Copyright (c) 2017, Intel Corporation\n",
    "#\n",
    "# Redistribution and use in source and binary forms, with or without\n",
    "# modification, are permitted provided that the following conditions are met:\n",
    "#\n",
    "#     * Redistributions of source code must retain the above copyright notice,\n",
    "#       this list of conditions and the following disclaimer.\n",
    "#     * Redistributions in binary form must reproduce the above copyright\n",
    "#       notice, this list of conditions and the following disclaimer in the\n",
    "#       documentation and/or other materials provided with the distribution.\n",
    "#     * Neither the name of Intel Corporation nor the names of its contributors\n",
    "#       may be used to endorse or promote products derived from this software\n",
    "#       without specific prior written permission.\n",
    "#\n",
    "# THIS SOFTWARE IS PROVIDED BY THE COPYRIGHT HOLDERS AND CONTRIBUTORS \"AS IS\"\n",
    "# AND ANY EXPRESS OR IMPLIED WARRANTIES, INCLUDING, BUT NOT LIMITED TO, THE\n",
    "# IMPLIED WARRANTIES OF MERCHANTABILITY AND FITNESS FOR A PARTICULAR PURPOSE ARE\n",
    "# DISCLAIMED. IN NO EVENT SHALL THE COPYRIGHT OWNER OR CONTRIBUTORS BE LIABLE\n",
    "# FOR ANY DIRECT, INDIRECT, INCIDENTAL, SPECIAL, EXEMPLARY, OR CONSEQUENTIAL\n",
    "# DAMAGES (INCLUDING, BUT NOT LIMITED TO, PROCUREMENT OF SUBSTITUTE GOODS OR\n",
    "# SERVICES; LOSS OF USE, DATA, OR PROFITS; OR BUSINESS INTERRUPTION) HOWEVER\n",
    "# CAUSED AND ON ANY THEORY OF LIABILITY, WHETHER IN CONTRACT, STRICT LIABILITY,\n",
    "# OR TORT (INCLUDING NEGLIGENCE OR OTHERWISE) ARISING IN ANY WAY OUT OF THE USE\n",
    "# OF THIS SOFTWARE, EVEN IF ADVISED OF THE POSSIBILITY OF SUCH DAMAGE.\n",
    "\n",
    "\n",
    "import sys\n",
    "import time\n",
    "import timeit\n",
    "import numpy as np\n",
    "import dask.array as da\n",
    "from dask.diagnostics import ProgressBar\n",
    "import random\n",
    "import argparse\n",
    "import numba\n",
    "\n",
    "number_of_users = 40000\n",
    "features = 900\n",
    "chunk = 1000\n",
    "\n",
    "try:\n",
    "    import numpy.random_intel as rnd\n",
    "    numpy_ver=\"intel\"\n",
    "except:\n",
    "    import numpy.random as rnd\n",
    "    numpy_ver=\"std\"\n",
    "\n",
    "print(\"Generating fake similarity\")\n",
    "#topk = da.random.normal(size=(features, features), chunks=(features, features)).compute()\n",
    "topk = rnd.normal(size=(features, features))\n",
    "t = da.from_array(topk, chunks=(features, features))\n",
    "\n",
    "print(\"Generating fake user data\")\n",
    "#users = da.random.normal(size=(features, number_of_users), chunks=(features, chunk)).compute()\n",
    "#users = rnd.normal(size=(features, number_of_users))\n",
    "users = np.zeros(shape=(features, number_of_users), dtype=np.float64)\n",
    "objects_idx = np.arange(features)\n",
    "rated = rnd.randint(0, 10, size=number_of_users, dtype=np.int32)\n",
    "for user in range(number_of_users):\n",
    "    rnd.shuffle(objects_idx)\n",
    "    items_rated = rated[user]\n",
    "    users[objects_idx[:items_rated], user] = rnd.randint(1, 5, size=items_rated, dtype=np.int32)\n",
    "\n",
    "u = da.from_array(users, chunks=(features, chunk), name=False)\n",
    "\n",
    "def run_numpy():\n",
    "    x = topk.dot(users)\n",
    "    x = np.where(users>0, 0, x)\n",
    "    return x.argmax(axis=0)\n",
    "\n",
    "\n",
    "def run_dask():\n",
    "    x = t.dot(u)\n",
    "    x = da.where(u>0, 0, x)\n",
    "    r = x.argmax(axis=0)\n",
    "    return r.compute()\n",
    "\n",
    "\n",
    "@numba.guvectorize('(f8[:],f8[:],i4[:])', '(n),(n)->()', nopython=True, target=\"parallel\")\n",
    "def recommendation(x, u, r):\n",
    "    maxx = x[0]\n",
    "    r[0] = -1\n",
    "    for i in range(x.shape[0]):\n",
    "        if u[i] == 0 and maxx < x[i]: # if user has no rank for the item\n",
    "           maxx = x[i]\n",
    "           r[0] = i\n",
    "\n",
    "\n",
    "def run_numpy_numba():\n",
    "    x = topk.dot(users)\n",
    "    return recommendation(x, users)\n",
    "\n",
    "\n",
    "def run_dask_numba():\n",
    "    x = t.dot(u)\n",
    "    r = da.map_blocks(recommendation, x, u, drop_axis=0)\n",
    "    return r.compute()"
   ]
  },
  {
   "cell_type": "markdown",
   "metadata": {},
   "source": [
    "## Run the standard NumPy version with timeit, cProfile, line_profiler"
   ]
  },
  {
   "cell_type": "code",
   "execution_count": null,
   "metadata": {
    "collapsed": true
   },
   "outputs": [],
   "source": [
    "import cProfile\n",
    "%load_ext line_profiler"
   ]
  },
  {
   "cell_type": "code",
   "execution_count": null,
   "metadata": {
    "collapsed": true
   },
   "outputs": [],
   "source": []
  },
  {
   "cell_type": "markdown",
   "metadata": {},
   "source": [
    "## Compare the numpy variant against the *dask* version"
   ]
  },
  {
   "cell_type": "code",
   "execution_count": null,
   "metadata": {
    "collapsed": true
   },
   "outputs": [],
   "source": []
  },
  {
   "cell_type": "markdown",
   "metadata": {},
   "source": [
    "## Now compare the composable methods of NumPy/Numba, and Dask/Numba"
   ]
  },
  {
   "cell_type": "code",
   "execution_count": null,
   "metadata": {
    "collapsed": true
   },
   "outputs": [],
   "source": []
  }
 ],
 "metadata": {
  "kernelspec": {
   "display_name": "Python (idp)",
   "language": "python",
   "name": "idp"
  },
  "language_info": {
   "codemirror_mode": {
    "name": "ipython",
    "version": 3
   },
   "file_extension": ".py",
   "mimetype": "text/x-python",
   "name": "python",
   "nbconvert_exporter": "python",
   "pygments_lexer": "ipython3",
   "version": "3.5.2"
  }
 },
 "nbformat": 4,
 "nbformat_minor": 1
}
